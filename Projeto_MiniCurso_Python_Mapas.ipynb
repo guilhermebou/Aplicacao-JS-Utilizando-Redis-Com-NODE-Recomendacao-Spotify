{
  "nbformat": 4,
  "nbformat_minor": 0,
  "metadata": {
    "colab": {
      "provenance": [],
      "include_colab_link": true
    },
    "kernelspec": {
      "name": "python3",
      "display_name": "Python 3"
    },
    "language_info": {
      "name": "python"
    }
  },
  "cells": [
    {
      "cell_type": "markdown",
      "metadata": {
        "id": "view-in-github",
        "colab_type": "text"
      },
      "source": [
        "<a href=\"https://colab.research.google.com/github/guilhermebou/Aplicacao-JS-Utilizando-Redis-Com-NODE-Recomendacao-Spotify/blob/master/Projeto_MiniCurso_Python_Mapas.ipynb\" target=\"_parent\"><img src=\"https://colab.research.google.com/assets/colab-badge.svg\" alt=\"Open In Colab\"/></a>"
      ]
    },
    {
      "cell_type": "code",
      "execution_count": null,
      "metadata": {
        "colab": {
          "base_uri": "https://localhost:8080/"
        },
        "id": "lwE1Z8-0UeJH",
        "outputId": "408f9047-e04b-4054-96bf-0ddcc1980add"
      },
      "outputs": [
        {
          "output_type": "stream",
          "name": "stdout",
          "text": [
            "Looking in indexes: https://pypi.org/simple, https://us-python.pkg.dev/colab-wheels/public/simple/\n",
            "Requirement already satisfied: folium in /usr/local/lib/python3.9/dist-packages (0.12.1.post1)\n",
            "Requirement already satisfied: branca>=0.3.0 in /usr/local/lib/python3.9/dist-packages (from folium) (0.6.0)\n",
            "Requirement already satisfied: jinja2>=2.9 in /usr/local/lib/python3.9/dist-packages (from folium) (3.1.2)\n",
            "Requirement already satisfied: numpy in /usr/local/lib/python3.9/dist-packages (from folium) (1.22.4)\n",
            "Requirement already satisfied: requests in /usr/local/lib/python3.9/dist-packages (from folium) (2.27.1)\n",
            "Requirement already satisfied: MarkupSafe>=2.0 in /usr/local/lib/python3.9/dist-packages (from jinja2>=2.9->folium) (2.1.2)\n",
            "Requirement already satisfied: certifi>=2017.4.17 in /usr/local/lib/python3.9/dist-packages (from requests->folium) (2022.12.7)\n",
            "Requirement already satisfied: charset-normalizer~=2.0.0 in /usr/local/lib/python3.9/dist-packages (from requests->folium) (2.0.12)\n",
            "Requirement already satisfied: urllib3<1.27,>=1.21.1 in /usr/local/lib/python3.9/dist-packages (from requests->folium) (1.26.15)\n",
            "Requirement already satisfied: idna<4,>=2.5 in /usr/local/lib/python3.9/dist-packages (from requests->folium) (3.4)\n"
          ]
        }
      ],
      "source": [
        "!pip install folium"
      ]
    },
    {
      "cell_type": "code",
      "source": [
        "!pip install utm"
      ],
      "metadata": {
        "colab": {
          "base_uri": "https://localhost:8080/"
        },
        "id": "zuPNV2bsO4ia",
        "outputId": "f3587550-9451-4855-ac4d-2f0cf2598fb0"
      },
      "execution_count": null,
      "outputs": [
        {
          "output_type": "stream",
          "name": "stdout",
          "text": [
            "Looking in indexes: https://pypi.org/simple, https://us-python.pkg.dev/colab-wheels/public/simple/\n",
            "Requirement already satisfied: utm in /usr/local/lib/python3.9/dist-packages (0.7.0)\n"
          ]
        }
      ]
    },
    {
      "cell_type": "code",
      "source": [
        "def convertTextToArray(testFile: str) -> list:\n",
        "    txtCoordinates = open(testFile, 'r', encoding='utf-8').read()\n",
        "\n",
        "    listCoordinates = txtCoordinates.split('\\n')\n",
        "\n",
        "    listOrderedCoordinates = []\n",
        "    for coord in listCoordinates:\n",
        "        listCoord = coord.split(',')\n",
        "        listOrderedCoordinates.append(listCoord)\n",
        "\n",
        "    return listOrderedCoordinates\n",
        "\n"
      ],
      "metadata": {
        "id": "I6g6Ay9fO4pc"
      },
      "execution_count": null,
      "outputs": []
    },
    {
      "cell_type": "code",
      "source": [
        "import utm\n",
        "\n",
        "fileContent = convertTextToArray('/content/sample_data/fileudia.txt')\n",
        "geoLocations = []\n",
        "\n",
        "for coordinate in fileContent:\n",
        "    easting = float(coordinate[0])\n",
        "    northing = float(coordinate[1])\n",
        "    zoneNumber = int(coordinate[2])\n",
        "    zoneLetter = coordinate[3]\n",
        "    convertedCoord = utm.to_latlon(easting, northing, zoneNumber, zoneLetter)\n",
        "    geoLocations.append(convertedCoord)\n",
        "\n",
        "\n",
        "    "
      ],
      "metadata": {
        "id": "cZknaUA1PYoc"
      },
      "execution_count": null,
      "outputs": []
    },
    {
      "cell_type": "code",
      "source": [
        "import folium"
      ],
      "metadata": {
        "id": "aKo-k2_PUpgX"
      },
      "execution_count": null,
      "outputs": []
    },
    {
      "cell_type": "code",
      "source": [
        "print(folium.__version__)"
      ],
      "metadata": {
        "colab": {
          "base_uri": "https://localhost:8080/"
        },
        "id": "bMAdeZ05UtvH",
        "outputId": "b96e737a-4e75-4c9d-fc89-a9fd80ac418c"
      },
      "execution_count": null,
      "outputs": [
        {
          "output_type": "stream",
          "name": "stdout",
          "text": [
            "0.12.1.post1\n"
          ]
        }
      ]
    },
    {
      "cell_type": "code",
      "source": [
        "\n",
        "convert = utm.to_latlon(788852.70, 7905974.82, 22, 'K')\n",
        "lat = convert[0]\n",
        "long = convert[1]\n",
        "print(convert)\n",
        "m = folium.Map(location=[lat, long], zoom_start=17)\n",
        "\n",
        "folium.Polygon(\n",
        "    locations=geoLocations,\n",
        "    color='blue',\n",
        "    weight=6,\n",
        "    fill_color='red',\n",
        "    fill_opacity=0.5,\n",
        "    fill=True,\n",
        "    popup='Campus UFU Santa Monica',\n",
        "    tooltip = 'click me',\n",
        ").add_to(m)\n",
        "\n",
        "m"
      ],
      "metadata": {
        "id": "WQBZkpyxUwiY"
      },
      "execution_count": null,
      "outputs": []
    },
    {
      "cell_type": "code",
      "source": [
        "import utm\n",
        "\n",
        "fileContent = convertTextToArray('/content/sample_data/filemcB.txt')\n",
        "geoLocationsB = []\n",
        "\n",
        "for coordinate in fileContent:\n",
        "    easting = float(coordinate[0])\n",
        "    northing = float(coordinate[1])\n",
        "    zoneNumber = int(coordinate[2])\n",
        "    zoneLetter = coordinate[3]\n",
        "    convertedCoord = utm.to_latlon(easting, northing, zoneNumber, zoneLetter)\n",
        "    geoLocationsB.append(convertedCoord)\n"
      ],
      "metadata": {
        "id": "N5H50S3GVMSi"
      },
      "execution_count": null,
      "outputs": []
    },
    {
      "cell_type": "code",
      "source": [
        "\n",
        "convert = utm.to_latlon(233669.92, 7927890.24, 23, 'K')\n",
        "lat = convert[0]\n",
        "long = convert[1]\n",
        "\n",
        "m = folium.Map(location=[lat, long], zoom_start=30)\n",
        "\n",
        "folium.Polygon(\n",
        "    locations=geoLocationsB,\n",
        "    color='blue',\n",
        "    weight=6,\n",
        "    fill_color='red',\n",
        "    fill_opacity=0.5,\n",
        "    fill=True,\n",
        "    popup='Bloco B Campus UFU-MC',\n",
        "    tooltip = 'info',\n",
        ").add_to(m)\n",
        "\n",
        "m"
      ],
      "metadata": {
        "id": "EXmMGOB9aebd"
      },
      "execution_count": null,
      "outputs": []
    },
    {
      "cell_type": "code",
      "source": [
        "import utm\n",
        "\n",
        "fileContent = convertTextToArray('/content/sample_data/filemcA.txt')\n",
        "geoLocationsA = []\n",
        "\n",
        "for coordinate in fileContent:\n",
        "    easting = float(coordinate[0])\n",
        "    northing = float(coordinate[1])\n",
        "    zoneNumber = int(coordinate[2])\n",
        "    zoneLetter = coordinate[3]\n",
        "    convertedCoord = utm.to_latlon(easting, northing, zoneNumber, zoneLetter)\n",
        "    geoLocationsA.append(convertedCoord)"
      ],
      "metadata": {
        "id": "cBm7KIV_R1bw"
      },
      "execution_count": null,
      "outputs": []
    },
    {
      "cell_type": "code",
      "source": [
        "convert = utm.to_latlon(233669.92, 7927890.24, 23, 'K')\n",
        "lat = convert[0]\n",
        "long = convert[1]\n",
        "\n",
        "map = folium.Map(location=[lat, long], zoom_start=30)\n",
        "\n",
        "folium.Polygon(\n",
        "    locations=geoLocationsA,\n",
        "    color='blue',\n",
        "    weight=6,\n",
        "    fill_color='red',\n",
        "    fill_opacity=0.5,\n",
        "    fill=True,\n",
        "    popup='Bloco A Campus UFU-MC',\n",
        "    tooltip = 'info',\n",
        ").add_to(map)\n",
        "\n",
        "map\n",
        "\n",
        "\n"
      ],
      "metadata": {
        "id": "GGlAhXG4T2qy"
      },
      "execution_count": null,
      "outputs": []
    },
    {
      "cell_type": "code",
      "source": [
        "#convert marker a \n",
        "\n",
        "convert = utm.to_latlon(233831.51, 7927775.91, 23, 'K')\n",
        "lat = convert[0]\n",
        "long = convert[1]\n",
        "\n",
        "folium.Marker(\n",
        "    location=[lat, long],\n",
        "    tooltip = 'Bloco A',\n",
        "    icon=folium.Icon(color=\"green\"),\n",
        ").add_to(m)\n",
        "\n",
        "m"
      ],
      "metadata": {
        "id": "kY_IdHmLU59e"
      },
      "execution_count": null,
      "outputs": []
    },
    {
      "cell_type": "code",
      "source": [
        "#convert marker b\n",
        "\n",
        "convert = utm.to_latlon(233829.20, 7927864.47, 23, 'K')\n",
        "lat = convert[0]\n",
        "long = convert[1]\n",
        "\n",
        "folium.Marker(\n",
        "    location=[lat,long],\n",
        "    tooltip = 'Bloco B',\n",
        "    icon=folium.Icon(color=\"orange\", icon=\"info-sign\"),\n",
        ").add_to(m)\n",
        "\n",
        "m"
      ],
      "metadata": {
        "id": "N_moqn-TU8vG"
      },
      "execution_count": null,
      "outputs": []
    },
    {
      "cell_type": "code",
      "source": [
        "convert = utm.to_latlon(233669.92, 7927890.24, 23, 'K')\n",
        "lat = convert[0]\n",
        "long = convert[1]\n",
        "\n",
        "map = folium.Map(location=[lat, long], zoom_start=30)\n",
        "\n",
        "folium.Polygon(\n",
        "    locations=geoLocationsA,\n",
        "    color='blue',\n",
        "    weight=6,\n",
        "    fill_color='red',\n",
        "    fill_opacity=0.5,\n",
        "    fill=True,\n",
        "    popup='Bloco A Campus UFU-MC',\n",
        "    tooltip = 'info',\n",
        ").add_to(m)\n",
        "\n",
        "m"
      ],
      "metadata": {
        "id": "7wBygiF066Gr"
      },
      "execution_count": null,
      "outputs": []
    },
    {
      "cell_type": "code",
      "source": [
        "convert = utm.to_latlon(233669.92, 7927890.24, 23, 'K')\n",
        "lat = convert[0]\n",
        "long = convert[1]\n",
        "\n",
        "m = folium.Map(location=[lat, long], zoom_start=30)\n",
        "\n",
        "folium.Polygon(\n",
        "    locations=geoLocationsB,\n",
        "    color='blue',\n",
        "    weight=6,\n",
        "    fill_color='red',\n",
        "    fill_opacity=0.5,\n",
        "    fill=True,\n",
        "    popup='Bloco B Campus UFU-MC',\n",
        "    tooltip = 'info',\n",
        ").add_to(m)\n",
        "\n",
        "m"
      ],
      "metadata": {
        "id": "GLEyVs0e7PCy"
      },
      "execution_count": null,
      "outputs": []
    },
    {
      "cell_type": "markdown",
      "source": [
        "# Instalacao das bibliotecas"
      ],
      "metadata": {
        "id": "WcHLg-5jPrMQ"
      }
    },
    {
      "cell_type": "code",
      "execution_count": null,
      "metadata": {
        "colab": {
          "base_uri": "https://localhost:8080/"
        },
        "outputId": "408f9047-e04b-4054-96bf-0ddcc1980add",
        "id": "D2ExhUFQ-HgC"
      },
      "outputs": [
        {
          "output_type": "stream",
          "name": "stdout",
          "text": [
            "Looking in indexes: https://pypi.org/simple, https://us-python.pkg.dev/colab-wheels/public/simple/\n",
            "Requirement already satisfied: folium in /usr/local/lib/python3.9/dist-packages (0.12.1.post1)\n",
            "Requirement already satisfied: branca>=0.3.0 in /usr/local/lib/python3.9/dist-packages (from folium) (0.6.0)\n",
            "Requirement already satisfied: jinja2>=2.9 in /usr/local/lib/python3.9/dist-packages (from folium) (3.1.2)\n",
            "Requirement already satisfied: numpy in /usr/local/lib/python3.9/dist-packages (from folium) (1.22.4)\n",
            "Requirement already satisfied: requests in /usr/local/lib/python3.9/dist-packages (from folium) (2.27.1)\n",
            "Requirement already satisfied: MarkupSafe>=2.0 in /usr/local/lib/python3.9/dist-packages (from jinja2>=2.9->folium) (2.1.2)\n",
            "Requirement already satisfied: certifi>=2017.4.17 in /usr/local/lib/python3.9/dist-packages (from requests->folium) (2022.12.7)\n",
            "Requirement already satisfied: charset-normalizer~=2.0.0 in /usr/local/lib/python3.9/dist-packages (from requests->folium) (2.0.12)\n",
            "Requirement already satisfied: urllib3<1.27,>=1.21.1 in /usr/local/lib/python3.9/dist-packages (from requests->folium) (1.26.15)\n",
            "Requirement already satisfied: idna<4,>=2.5 in /usr/local/lib/python3.9/dist-packages (from requests->folium) (3.4)\n"
          ]
        }
      ],
      "source": [
        "!pip install folium"
      ]
    },
    {
      "cell_type": "code",
      "source": [
        "!pip install utm"
      ],
      "metadata": {
        "colab": {
          "base_uri": "https://localhost:8080/"
        },
        "outputId": "288bc44e-68c0-46ce-faaa-ef729721f299",
        "id": "7m-F88wU-Skl"
      },
      "execution_count": null,
      "outputs": [
        {
          "output_type": "stream",
          "name": "stdout",
          "text": [
            "Looking in indexes: https://pypi.org/simple, https://us-python.pkg.dev/colab-wheels/public/simple/\n",
            "Requirement already satisfied: utm in /usr/local/lib/python3.9/dist-packages (0.7.0)\n"
          ]
        }
      ]
    },
    {
      "cell_type": "markdown",
      "source": [
        "# Importação das bibliotecas"
      ],
      "metadata": {
        "id": "FxNEzbvi-pnr"
      }
    },
    {
      "cell_type": "code",
      "source": [
        "import folium\n",
        "import utm"
      ],
      "metadata": {
        "id": "LlJ1Om4m-jTv"
      },
      "execution_count": null,
      "outputs": []
    },
    {
      "cell_type": "code",
      "source": [
        "print(folium.__version__)\n"
      ],
      "metadata": {
        "colab": {
          "base_uri": "https://localhost:8080/"
        },
        "id": "DRiqcEciHWYp",
        "outputId": "dbfc8c3a-a012-4b28-c01f-c5925c748ff4"
      },
      "execution_count": null,
      "outputs": [
        {
          "output_type": "stream",
          "name": "stdout",
          "text": [
            "0.12.1.post1\n"
          ]
        }
      ]
    },
    {
      "cell_type": "markdown",
      "source": [
        "# Markers"
      ],
      "metadata": {
        "id": "ufEl3gIj-_Dt"
      }
    },
    {
      "cell_type": "code",
      "source": [
        "#convert marker a \n",
        "\n",
        "convert = utm.to_latlon(233831.51, 7927775.91, 23, 'K')\n",
        "lat = convert[0]\n",
        "long = convert[1]\n",
        "\n",
        "folium.Marker(\n",
        "    location=[lat, long],\n",
        "    tooltip = 'Bloco A',\n",
        "    icon=folium.Icon(color=\"green\"),\n",
        ").add_to(m)\n",
        "\n",
        "m"
      ],
      "metadata": {
        "id": "p6eUMf7m-flr"
      },
      "execution_count": null,
      "outputs": []
    },
    {
      "cell_type": "code",
      "source": [
        "#convert marker b\n",
        "\n",
        "convert = utm.to_latlon(233829.20, 7927864.47, 23, 'K')\n",
        "lat = convert[0]\n",
        "long = convert[1]\n",
        "\n",
        "folium.Marker(\n",
        "    location=[lat,long],\n",
        "    tooltip = 'Bloco B',\n",
        "    icon=folium.Icon(color=\"orange\", icon=\"info-sign\"),\n",
        ").add_to(m)\n",
        "\n",
        "m"
      ],
      "metadata": {
        "id": "3syRHAUj_EAq"
      },
      "execution_count": null,
      "outputs": []
    },
    {
      "cell_type": "markdown",
      "source": [
        "# Manipulação de arquivo"
      ],
      "metadata": {
        "id": "iMtJ-Eb6B8aO"
      }
    },
    {
      "cell_type": "code",
      "source": [
        "def convertTextToArray(testFile: str) -> list:\n",
        "    txtCoordinates = open(testFile, 'r', encoding='utf-8').read()\n",
        "\n",
        "    listCoordinates = txtCoordinates.split('\\n')\n",
        "\n",
        "    listOrderedCoordinates = []\n",
        "    for coord in listCoordinates:\n",
        "        listCoord = coord.split(',')\n",
        "        listOrderedCoordinates.append(listCoord)\n",
        "\n",
        "    return listOrderedCoordinates"
      ],
      "metadata": {
        "id": "HMDA51RRCdp9"
      },
      "execution_count": null,
      "outputs": []
    },
    {
      "cell_type": "markdown",
      "source": [
        "# Conversor coordenadas"
      ],
      "metadata": {
        "id": "jHTSAFa-Cyte"
      }
    },
    {
      "cell_type": "code",
      "source": [
        "fileContent = convertTextToArray('/content/sample_data/fileudia.txt')\n",
        "geoLocations = []\n",
        "\n",
        "for coordinate in fileContent:\n",
        "    easting = float(coordinate[0])\n",
        "    northing = float(coordinate[1])\n",
        "    zoneNumber = int(coordinate[2])\n",
        "    zoneLetter = coordinate[3]\n",
        "    convertedCoord = utm.to_latlon(easting, northing, zoneNumber, zoneLetter)\n",
        "    geoLocations.append(convertedCoord)"
      ],
      "metadata": {
        "id": "S_r7zFFqCm1P"
      },
      "execution_count": null,
      "outputs": []
    },
    {
      "cell_type": "markdown",
      "source": [
        "# Vetorização - Poligonos "
      ],
      "metadata": {
        "id": "aVHGDzbhDJbm"
      }
    },
    {
      "cell_type": "code",
      "source": [
        "#CONVERSOR COORDENADA DE ZOOM\n",
        "\n",
        "convert = utm.to_latlon(788852.70, 7905974.82, 22, 'K')\n",
        "lat = convert[0]\n",
        "long = convert[1]\n",
        "print(convert)\n",
        "\n",
        "m = folium.Map(location=[lat, long], zoom_start=17)\n",
        "\n",
        "#VETOR \n",
        "\n",
        "folium.Polygon(\n",
        "    locations=geoLocations,\n",
        "    color='blue',\n",
        "    weight=6,\n",
        "    fill_color='red',\n",
        "    fill_opacity=0.5,\n",
        "    fill=True,\n",
        "    popup='Campus UFU Santa Monica',\n",
        "    tooltip = 'click me',\n",
        ").add_to(m)\n",
        "\n",
        "m"
      ],
      "metadata": {
        "id": "HRSWmSlxC57x"
      },
      "execution_count": null,
      "outputs": []
    },
    {
      "cell_type": "markdown",
      "source": [
        "# Vetorização - Exemplo A"
      ],
      "metadata": {
        "id": "AgIp8Nv-D57k"
      }
    },
    {
      "cell_type": "code",
      "source": [
        "#CONVESOR\n",
        "\n",
        "fileContent = convertTextToArray('/content/sample_data/filemcA.txt')\n",
        "geoLocationsA = []\n",
        "\n",
        "for coordinate in fileContent:\n",
        "    easting = float(coordinate[0])\n",
        "    northing = float(coordinate[1])\n",
        "    zoneNumber = int(coordinate[2])\n",
        "    zoneLetter = coordinate[3]\n",
        "    convertedCoord = utm.to_latlon(easting, northing, zoneNumber, zoneLetter)\n",
        "    geoLocationsA.append(convertedCoord)"
      ],
      "metadata": {
        "id": "6dv6pYahD-XB"
      },
      "execution_count": null,
      "outputs": []
    },
    {
      "cell_type": "code",
      "source": [
        "#CONVERSOR COORDENADA DE ZOOM\n",
        "\n",
        "convert = utm.to_latlon(233669.92, 7927890.24, 23, 'K')\n",
        "lat = convert[0]\n",
        "long = convert[1]\n",
        "\n",
        "map = folium.Map(location=[lat, long], zoom_start=30)\n",
        "\n",
        "#VETOR BLOCO A\n",
        "\n",
        "folium.Polygon(\n",
        "    locations=geoLocationsA,\n",
        "    color='blue',\n",
        "    weight=6,\n",
        "    fill_color='red',\n",
        "    fill_opacity=0.5,\n",
        "    fill=True,\n",
        "    popup='Bloco A Campus UFU-MC',\n",
        "    tooltip = 'info',\n",
        ").add_to(map)\n",
        "\n",
        "map\n"
      ],
      "metadata": {
        "id": "rlrgw6CIEY4U"
      },
      "execution_count": null,
      "outputs": []
    },
    {
      "cell_type": "markdown",
      "source": [
        "# Vetorização - Exemplo B"
      ],
      "metadata": {
        "id": "9aflzjqTEuA0"
      }
    },
    {
      "cell_type": "code",
      "source": [
        "#CONVESOR\n",
        "\n",
        "fileContent = convertTextToArray('/content/sample_data/filemcB.txt')\n",
        "geoLocationsB = []\n",
        "\n",
        "for coordinate in fileContent:\n",
        "    easting = float(coordinate[0])\n",
        "    northing = float(coordinate[1])\n",
        "    zoneNumber = int(coordinate[2])\n",
        "    zoneLetter = coordinate[3]\n",
        "    convertedCoord = utm.to_latlon(easting, northing, zoneNumber, zoneLetter)\n",
        "    geoLocationsB.append(convertedCoord)"
      ],
      "metadata": {
        "id": "wJZJ6mFbE0kh"
      },
      "execution_count": null,
      "outputs": []
    },
    {
      "cell_type": "code",
      "source": [
        "#CONVERSOR COORDENADA DE ZOOM\n",
        "\n",
        "convert = utm.to_latlon(233669.92, 7927890.24, 23, 'K')\n",
        "lat = convert[0]\n",
        "long = convert[1]\n",
        "\n",
        "m = folium.Map(location=[lat, long], zoom_start=30)\n",
        "\n",
        "#VETOR BLOCO B\n",
        "\n",
        "folium.Polygon(\n",
        "    locations=geoLocationsB,\n",
        "    color='blue',\n",
        "    weight=6,\n",
        "    fill_color='red',\n",
        "    fill_opacity=0.5,\n",
        "    fill=True,\n",
        "    popup='Bloco B Campus UFU-MC',\n",
        "    tooltip = 'info',\n",
        ").add_to(m)\n",
        "\n",
        "m"
      ],
      "metadata": {
        "id": "6NfQpM59E1V1"
      },
      "execution_count": null,
      "outputs": []
    }
  ]
}